{
 "cells": [
  {
   "cell_type": "code",
   "execution_count": null,
   "metadata": {},
   "outputs": [],
   "source": [
    "%pip install ollama"
   ]
  },
  {
   "cell_type": "code",
   "execution_count": 2,
   "metadata": {},
   "outputs": [
    {
     "data": {
      "text/markdown": [
       "The book \"The Lord of the Rings\" was written by J.R.R. Tolkien, a British author, philologist, and university professor best known for his fantasy stories, particularly Middle-earth legendarium.\n",
       "\n",
       "Tolkien began writing \"The Lord of the Rings\" in 1937, and it took him about 12 years to complete. The book was published in three volumes between 1954 and 1955:\n",
       "\n",
       "1. \"The Fellowship of the Ring\" (July 29, 1954)\n",
       "2. \"The Two Towers\" (November 11, 1954)\n",
       "3. \"The Return of the King\" (October 20, 1955)\n",
       "\n",
       "Tolkien's work was heavily influenced by his love of languages, mythology, and history, particularly Old English, Middle English, and Norse mythologies. The book has since become a classic of fantasy literature and has been translated into over 50 languages.\n",
       "\n",
       "It's worth noting that Tolkien also wrote other notable works set in the same fictional universe, including \"The Hobbit,\" \"The Silmarillion,\" and \"Unfinished Tales.\" His son Christopher Tolkien edited and published many of these works after his father's passing."
      ],
      "text/plain": [
       "<IPython.core.display.Markdown object>"
      ]
     },
     "metadata": {},
     "output_type": "display_data"
    }
   ],
   "source": [
    "import ollama\n",
    "from IPython.display import Markdown, display\n",
    "\n",
    "response1 = ollama.chat(\n",
    "    model='llama3.2-vision',\n",
    "    messages = [{\"role\": \"user\",\n",
    "                \"content\": \"Who wrote the book Lord of the Rings?\"\n",
    "                }]\n",
    "                )\n",
    "\n",
    "display(Markdown(response1.message.content))"
   ]
  },
  {
   "cell_type": "code",
   "execution_count": 3,
   "metadata": {},
   "outputs": [
    {
     "data": {
      "text/markdown": [
       "J.R.R. Tolkien wrote several books in addition to \"The Lord of the Rings\" trilogy. Some of his notable works include:\n",
       "\n",
       "1. **The Hobbit** (1937) - a fantasy novel that precedes \"The Lord of the Rings\" and follows the journey of Bilbo Baggins.\n",
       "2. **The Silmarillion** (1977, published posthumously) - a collection of stories and legends about the creation of Middle-earth and the Elves, written by Tolkien in the 1910s-1950s.\n",
       "3. **Unfinished Tales of Númenor and Middle-earth** (1980, published posthumously) - a collection of stories and fragments that explore the history of Middle-earth.\n",
       "4. **The Adventures of Tom Bombadil** (1962) - a collection of poetry featuring the character Tom Bombadil from \"The Lord of the Rings\".\n",
       "5. **Smith of Wootton Major** (1967) - a novella about a young boy who eats a magical cake and is transported to a fantastical land.\n",
       "6. **Farmer Giles of Ham** (1949) - a lighthearted fantasy story about a farmer who becomes a hero after defeating a dragon.\n",
       "\n",
       "Tolkien also wrote several academic works, including:\n",
       "\n",
       "1. **Sir Gawain and the Green Knight** (1925) - an edition of the medieval poem, with a foreword and notes.\n",
       "2. **Finn and Hengest** (1982, published posthumously) - a study of the Old English poem \"The Fight at Finnsburh\".\n",
       "3. **Tree and Leaf** (1964) - a collection of essays on language, philology, and literature.\n",
       "\n",
       "Additionally, Christopher Tolkien, J.R.R.'s son, has edited and published several books based on his father's notes and unfinished works, including:\n",
       "\n",
       "1. **The History of Middle-earth** series (1983-1996) - a 12-volume series that collects and analyzes the drafts, fragments, and unpublished works of J.R.R. Tolkien.\n",
       "2. **The Book of Lost Tales** (1983) - a collection of early stories about Middle-earth.\n",
       "\n",
       "These books offer a deeper understanding of Tolkien's world-building and creative process, and provide insight into his development as an author."
      ],
      "text/plain": [
       "<IPython.core.display.Markdown object>"
      ]
     },
     "metadata": {},
     "output_type": "display_data"
    }
   ],
   "source": [
    "response2 = ollama.chat(\n",
    "    model='llama3.2-vision',    \n",
    "    messages = [\n",
    "      {\"role\": \"user\",\n",
    "       \"content\": \"Who wrote the book Lord of the Rings?\"},\n",
    "       \n",
    "      {\"role\": \"assistant\",\n",
    "       \"content\": response1.message.content},\n",
    "      \n",
    "      {\"role\": \"user\",\n",
    "       \"content\": \"What other books has the author written?\"}\n",
    "    ],\n",
    ")\n",
    "\n",
    "display(Markdown(response2.message.content))"
   ]
  },
  {
   "cell_type": "code",
   "execution_count": 8,
   "metadata": {},
   "outputs": [],
   "source": [
    "class Conversation:\n",
    "    def __init__(self, system=\"\"):\n",
    "        self.messages = [] # define history list\n",
    "        \n",
    "        if system:\n",
    "            self.messages.append({\"role\": \"system\", \"content\": system})\n",
    "            \n",
    "    def generate(self, user_question):\n",
    "    \n",
    "        # append user query to history under \"user\" role\n",
    "        self.messages.append({\"role\": \"user\", \"content\":user_question})\n",
    "        \n",
    "        # generate response from LLM\n",
    "        response = ollama.chat(model='llama3.2-vision', messages=self.messages)\n",
    "        \n",
    "        # Add LLM's response to the history under \"assistant\" role\n",
    "        self.messages.append({\"role\":\"assistant\", \"content\":response.message.content})\n",
    "        \n",
    "        return response"
   ]
  },
  {
   "cell_type": "code",
   "execution_count": 6,
   "metadata": {},
   "outputs": [
    {
     "data": {
      "text/markdown": [
       "J.R.R. Tolkien wrote several books in addition to \"The Lord of the Rings\" trilogy. Some of his notable works include:\n",
       "\n",
       "1. **The Hobbit** (1937) - a fantasy novel that precedes \"The Lord of the Rings\" and follows the journey of Bilbo Baggins.\n",
       "2. **The Silmarillion** (1977, published posthumously) - a collection of stories and legends about the creation of Middle-earth and the Elves, written by Tolkien in the 1910s-1950s.\n",
       "3. **Unfinished Tales of Númenor and Middle-earth** (1980, published posthumously) - a collection of stories and fragments that explore the history of Middle-earth.\n",
       "4. **The Adventures of Tom Bombadil** (1962) - a collection of poetry featuring the character Tom Bombadil from \"The Lord of the Rings\".\n",
       "5. **Smith of Wootton Major** (1967) - a novella about a young boy who eats a magical cake and is transported to a fantastical land.\n",
       "6. **Farmer Giles of Ham** (1949) - a lighthearted fantasy story about a farmer who becomes a hero after defeating a dragon.\n",
       "\n",
       "Tolkien also wrote several academic works, including:\n",
       "\n",
       "1. **Sir Gawain and the Green Knight** (1925) - an edition of the medieval poem, with a foreword and notes.\n",
       "2. **Finn and Hengest** (1982, published posthumously) - a study of the Old English poem \"The Fight at Finnsburh\".\n",
       "3. **Tree and Leaf** (1964) - a collection of essays on language, philology, and literature.\n",
       "\n",
       "Additionally, Christopher Tolkien, J.R.R.'s son, has edited and published several books based on his father's notes and unfinished works, including:\n",
       "\n",
       "1. **The History of Middle-earth** series (1983-1996) - a 12-volume series that collects and analyzes the drafts, fragments, and unpublished works of J.R.R. Tolkien.\n",
       "2. **The Book of Lost Tales** (1983) - a collection of early stories about Middle-earth.\n",
       "\n",
       "These books offer a deeper understanding of Tolkien's world-building and creative process, and provide insight into his development as an author."
      ],
      "text/plain": [
       "<IPython.core.display.Markdown object>"
      ]
     },
     "metadata": {},
     "output_type": "display_data"
    }
   ],
   "source": [
    "# define conversation\n",
    "system_message = \"You are a terse expert in high fantasy literature.\"\n",
    "conv = Conversation(system_message)\n",
    "\n",
    "# generate response from query\n",
    "response = conv.generate(\"Who wrote the book Lord of the Rings?\")\n",
    "\n",
    "# display response\n",
    "display(Markdown(response2.message.content))"
   ]
  },
  {
   "cell_type": "code",
   "execution_count": 7,
   "metadata": {},
   "outputs": [
    {
     "data": {
      "text/plain": [
       "[{'role': 'system',\n",
       "  'content': 'You are a terse expert in high fantasy literature.'},\n",
       " {'role': 'user', 'content': 'Who wrote the book Lord of the Rings?'},\n",
       " {'role': 'assistant',\n",
       "  'content': \"The Lord of the Rings was written by J.R.R. Tolkien, a British author, philologist, and university professor best known for his Middle-earth stories. Specifically, it's a trilogy consisting of The Fellowship of the Ring, The Two Towers, and The Return of the King.\"}]"
      ]
     },
     "execution_count": 7,
     "metadata": {},
     "output_type": "execute_result"
    }
   ],
   "source": [
    " conv.messages\n"
   ]
  },
  {
   "cell_type": "code",
   "execution_count": 9,
   "metadata": {},
   "outputs": [
    {
     "data": {
      "text/markdown": [
       "This photograph features two small dogs running along a dirt path, with the dog on the left sporting short tan fur and large ears, while the dog on the right has longer brown fur.\n",
       "\n",
       "The dogs are in motion, their legs blurred as they run towards the camera. The background is softly focused, revealing tall grasses and shrubs lining the dirt path, set against a bright sky."
      ],
      "text/plain": [
       "<IPython.core.display.Markdown object>"
      ]
     },
     "metadata": {},
     "output_type": "display_data"
    }
   ],
   "source": [
    "import ollama\n",
    "\n",
    "response = ollama.chat(\n",
    "    model='llama3.2-vision',\n",
    "    messages=[{\n",
    "        'role': 'user',\n",
    "        'content': 'Describe this image.',\n",
    "        'images': ['dogs.png']\n",
    "    }]\n",
    ")\n",
    "\n",
    "display(Markdown(response.message.content))"
   ]
  },
  {
   "cell_type": "code",
   "execution_count": 10,
   "metadata": {},
   "outputs": [
    {
     "name": "stdout",
     "output_type": "stream",
     "text": [
      "The image shows a young man with dark hair and a mustache, wearing a black-and-white striped sweater over a green shirt. He has a purple backpack on his back.\n",
      "\n",
      "*   **Man**\n",
      "    *   The man is standing in front of a building.\n",
      "    *   He has dark hair and a mustache.\n",
      "    *   He is wearing a black-and-white striped sweater over a green shirt.\n",
      "    *   He has a purple backpack on his back.\n",
      "*   **Background**\n",
      "    *   There are several buildings in the background.\n",
      "    *   The sky is gray.\n",
      "\n",
      "The image appears to be a selfie taken by the man himself, possibly in a college or university setting.\n"
     ]
    }
   ],
   "source": [
    "import ollama\n",
    "\n",
    "response = ollama.chat(\n",
    "                model='llama3.2-vision',\n",
    "                messages=[{'role': 'user',\n",
    "                           'content': \"\"\"Analyze the text in the provided image.\n",
    "                                         Extract all readable content and present\n",
    "                                         it in a structured Markdown format that\n",
    "                                         is clear, concise, and well-organized.\n",
    "                                         Ensure proper formatting (e.g., headings,\n",
    "                                         lists, or code blocks) as necessary to\n",
    "                                         represent the content effectively.\"\"\",\n",
    "                            'images': [\"me.jpg\"]\n",
    "                            }]\n",
    "                        )\n",
    "\n",
    "print(response.message.content)"
   ]
  }
 ],
 "metadata": {
  "kernelspec": {
   "display_name": "rag05",
   "language": "python",
   "name": "python3"
  },
  "language_info": {
   "codemirror_mode": {
    "name": "ipython",
    "version": 3
   },
   "file_extension": ".py",
   "mimetype": "text/x-python",
   "name": "python",
   "nbconvert_exporter": "python",
   "pygments_lexer": "ipython3",
   "version": "3.11.11"
  }
 },
 "nbformat": 4,
 "nbformat_minor": 2
}
