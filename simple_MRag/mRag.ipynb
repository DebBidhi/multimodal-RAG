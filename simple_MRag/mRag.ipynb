{
 "cells": [
  {
   "cell_type": "code",
   "execution_count": 1,
   "metadata": {},
   "outputs": [],
   "source": [
    "# %conda install -c conda-forge tesseract\n",
    "# %conda install -c conda-forge poppler "
   ]
  },
  {
   "cell_type": "code",
   "execution_count": 2,
   "metadata": {},
   "outputs": [
    {
     "name": "stderr",
     "output_type": "stream",
     "text": [
      "e:\\MINICONDA3\\ENVS\\RAG04\\Lib\\site-packages\\tqdm\\auto.py:21: TqdmWarning: IProgress not found. Please update jupyter and ipywidgets. See https://ipywidgets.readthedocs.io/en/stable/user_install.html\n",
      "  from .autonotebook import tqdm as notebook_tqdm\n",
      "Matplotlib is building the font cache; this may take a moment.\n"
     ]
    }
   ],
   "source": [
    "from unstructured.partition.pdf import partition_pdf"
   ]
  },
  {
   "cell_type": "code",
   "execution_count": 9,
   "metadata": {},
   "outputs": [
    {
     "name": "stderr",
     "output_type": "stream",
     "text": [
      "[nltk_data] Downloading package punkt to\n",
      "[nltk_data]     C:\\Users\\Bidhi\\AppData\\Roaming\\nltk_data...\n",
      "[nltk_data]   Package punkt is already up-to-date!\n",
      "[nltk_data] Downloading package punkt_tab to\n",
      "[nltk_data]     C:\\Users\\Bidhi\\AppData\\Roaming\\nltk_data...\n",
      "[nltk_data]   Unzipping tokenizers\\punkt_tab.zip.\n",
      "[nltk_data] Downloading package averaged_perceptron_tagger to\n",
      "[nltk_data]     C:\\Users\\Bidhi\\AppData\\Roaming\\nltk_data...\n",
      "[nltk_data]   Unzipping taggers\\averaged_perceptron_tagger.zip.\n",
      "[nltk_data] Downloading package averaged_perceptron_tagger_eng to\n",
      "[nltk_data]     C:\\Users\\Bidhi\\AppData\\Roaming\\nltk_data...\n",
      "[nltk_data]   Unzipping taggers\\averaged_perceptron_tagger_eng.zip.\n",
      "[nltk_data] Downloading package words to\n",
      "[nltk_data]     C:\\Users\\Bidhi\\AppData\\Roaming\\nltk_data...\n",
      "[nltk_data]   Unzipping corpora\\words.zip.\n"
     ]
    }
   ],
   "source": [
    "import nltk\n",
    "nltk.download('punkt')\n",
    "nltk.download('punkt_tab')\n",
    "nltk.download('averaged_perceptron_tagger')\n",
    "nltk.download('averaged_perceptron_tagger_eng')\n",
    "nltk.download('words')\n",
    "\n",
    "file_path = \"attention.pdf\"\n",
    "\n",
    "chunks = partition_pdf(\n",
    "    filename=file_path,\n",
    "    infer_table_structure=True,\n",
    "    strategy=\"hi_res\",\n",
    "    extract_image_block_types=[\"Image\"],\n",
    "    extract_image_block_to_payload=True,\n",
    "    chunking_strategy=\"by_title\",\n",
    "    max_characters=10000,\n",
    "    combine_text_under_n_chars=2000,\n",
    "    new_after_n_chars=6000\n",
    ")"
   ]
  },
  {
   "cell_type": "code",
   "execution_count": 10,
   "metadata": {},
   "outputs": [
    {
     "data": {
      "text/markdown": [
       "3 Model Architecture\n",
       "\n",
       "Most competitive neural sequence transduction models have an encoder-decoder structure [5] [2] 35). Here, the encoder maps an input sequence of symbol representations (21, ...,%,,) to a sequence of continuous representations z = (z1,...,2n). Given z, the decoder then generates an output sequence (yj, ..., Ym) of symbols one element at a time. At each step the model is auto-regressive , consuming the previously generated symbols as additional input when generating the next.\n",
       "\n",
       "Output\n",
       "\n",
       "Probabilities Add & Norm Feed Forward Add & Norm Multi-Head Attention a, Add & Norm Add & Norm Feed Forward Nx | -+CAgc8 Norm) Add & Norm Masked Multi-Head Multi-Head Attention Attention Se a, ee a, Positional Positional Encoding @ © @ Encoding Input Output Embedding Embedding Inputs Outputs (shifted right)\n",
       "\n",
       "Figure 1: The Transformer - model architecture.\n",
       "\n",
       "The Transformer follows this overall architecture using stacked self-attention and point-wise, fully connected layers for both the encoder and decoder, shown in the left and right halves of Figure[I] respectively.\n",
       "\n",
       "3.1 Encoder and Decoder Stacks\n",
       "\n",
       "Encoder: The encoder is composed of a stack of N = 6 identical layers. Each layer has two sub-layers. The first is a multi-head self-attention mechanism, and the second is a simple, position- wise fully connected feed-forward network. We employ a residual connection around each of the two sub-layers, followed by layer normalization [I]. That is, the output of each sub-layer is LayerNorm(x + Sublayer(x)), where Sublayer() is the function implemented by the sub-layer itself. To facilitate these residual connections, all sub-layers in the model, as well as the embedding layers, produce outputs of dimension dmode = 512.\n",
       "\n",
       "Decoder: The decoder is also composed of a stack of N = 6 identical layers. In addition to the two sub-layers in each encoder layer, the decoder inserts a third sub-layer, which performs multi-head attention over the output of the encoder stack. Similar to the encoder, we employ residual connections around each of the sub-layers, followed by layer normalization. We also modify the self-attention sub-layer in the decoder stack to prevent positions from attending to subsequent positions. This masking, combined with fact that the output embeddings are offset by one position, ensures that the predictions for position i can depend only on the known outputs at positions less than 7."
      ],
      "text/plain": [
       "<IPython.core.display.Markdown object>"
      ]
     },
     "metadata": {},
     "output_type": "display_data"
    }
   ],
   "source": [
    "from IPython.display import Markdown, display\n",
    "\n",
    "display(Markdown(str(chunks[2].text)))"
   ]
  },
  {
   "cell_type": "code",
   "execution_count": 39,
   "metadata": {},
   "outputs": [
    {
     "data": {
      "text/plain": [
       "'<table><tr><td>Layer Type</td><td>Complexity per Layer</td><td>Sequential Operations</td><td>Maximum Path Length</td></tr><tr><td>Self-Attention</td><td>O(n? - d)</td><td>O(1)</td><td>O(1)</td></tr><tr><td>Recurrent</td><td>O(n- d?)</td><td>O(n)</td><td>O(n)</td></tr><tr><td>Convolutional</td><td>O(k-n-d?)</td><td>O(1)</td><td>O(logy(n))</td></tr><tr><td>Self-Attention (restricted)</td><td>O(r-n-d)</td><td>ol)</td><td>O(n/r)</td></tr></table>'"
      ]
     },
     "execution_count": 39,
     "metadata": {},
     "output_type": "execute_result"
    }
   ],
   "source": [
    "chunks[6].metadata.text_as_html"
   ]
  },
  {
   "cell_type": "code",
   "execution_count": 40,
   "metadata": {},
   "outputs": [
    {
     "data": {
      "text/plain": [
       "[<unstructured.documents.elements.CompositeElement at 0x1833520ee50>,\n",
       " <unstructured.documents.elements.CompositeElement at 0x1833520f010>,\n",
       " <unstructured.documents.elements.CompositeElement at 0x1833520f210>,\n",
       " <unstructured.documents.elements.CompositeElement at 0x1833520ef90>,\n",
       " <unstructured.documents.elements.CompositeElement at 0x1833520edd0>,\n",
       " <unstructured.documents.elements.CompositeElement at 0x1833520f990>,\n",
       " <unstructured.documents.elements.Table at 0x1833520f810>,\n",
       " <unstructured.documents.elements.CompositeElement at 0x1833520fb50>,\n",
       " <unstructured.documents.elements.CompositeElement at 0x1833520fcd0>,\n",
       " <unstructured.documents.elements.Table at 0x18335214110>,\n",
       " <unstructured.documents.elements.CompositeElement at 0x183352147d0>,\n",
       " <unstructured.documents.elements.CompositeElement at 0x18335214510>,\n",
       " <unstructured.documents.elements.Table at 0x18335214990>,\n",
       " <unstructured.documents.elements.CompositeElement at 0x18335215090>,\n",
       " <unstructured.documents.elements.Table at 0x183352150d0>,\n",
       " <unstructured.documents.elements.CompositeElement at 0x18335215610>,\n",
       " <unstructured.documents.elements.CompositeElement at 0x18335214a50>]"
      ]
     },
     "execution_count": 40,
     "metadata": {},
     "output_type": "execute_result"
    }
   ],
   "source": [
    "chunks"
   ]
  },
  {
   "cell_type": "code",
   "execution_count": 41,
   "metadata": {},
   "outputs": [],
   "source": [
    "import unstructured\n",
    "\n",
    "texts, tables, images = [], [], []\n",
    "\n",
    "for chunk in chunks:\n",
    "    \n",
    "    if isinstance(chunk, unstructured.documents.elements.Table):\n",
    "        tables.append(chunk)\n",
    "\n",
    "    if isinstance(chunk, unstructured.documents.elements.CompositeElement):\n",
    "        texts.append(chunk)\n",
    "        \n",
    "        chunk_elements = chunk.metadata.orig_elements\n",
    "        \n",
    "        # iterate over all elements of this chunk\n",
    "        for element in chunk_elements:\n",
    "               \n",
    "            if isinstance(element, unstructured.documents.elements.Image):\n",
    "                images.append(element.metadata.image_base64)"
   ]
  },
  {
   "cell_type": "code",
   "execution_count": 56,
   "metadata": {},
   "outputs": [
    {
     "name": "stdout",
     "output_type": "stream",
     "text": [
      "Total Texts: 13\n",
      "Total Images: 6\n",
      "Total Tables: 4\n"
     ]
    }
   ],
   "source": [
    "print(\"Total Texts:\", len(texts))\n",
    "\n",
    "\n",
    "print(\"Total Images:\", len(images))\n",
    "\n",
    "\n",
    "print(\"Total Tables:\", len(tables))\n"
   ]
  },
  {
   "cell_type": "code",
   "execution_count": 51,
   "metadata": {},
   "outputs": [
    {
     "data": {
      "image/jpeg": "[encoded data removed]",
      "text/plain": [
       "<IPython.core.display.Image object>"
      ]
     },
     "metadata": {},
     "output_type": "display_data"
    }
   ],
   "source": [
    "import base64\n",
    "from IPython.display import Image, display\n",
    "image_data = base64.b64decode(images[0])\n",
    "display(Image(data=image_data))"
   ]
  },
  {
   "cell_type": "code",
   "execution_count": 66,
   "metadata": {},
   "outputs": [],
   "source": [
    "import base64\n",
    "import os\n",
    "\n",
    "from IPython.display import Image, display\n",
    "\n",
    "for idx, image in enumerate(images):\n",
    "    try:\n",
    "        image_data = base64.b64decode(image)\n",
    "        path = f\"image_{idx}.jpeg\"\n",
    "\n",
    "        with open(path, \"wb\") as f:\n",
    "            f.write(image_data)\n",
    "\n",
    "    except Exception as e:\n",
    "        print(f\"Error processing image {idx}: {e}\")\n",
    "\n",
    "    \n",
    "        "
   ]
  },
  {
   "cell_type": "code",
   "execution_count": 69,
   "metadata": {},
   "outputs": [],
   "source": [
    "import ollama\n",
    "\n",
    "def get_image_summary(file_path):\n",
    "\n",
    "    response = ollama.chat(\n",
    "        model='llama3.2-vision',\n",
    "        messages=[{\n",
    "            'role': 'user',\n",
    "            'content': 'Summarize the image:',\n",
    "            'images': [file_path]\n",
    "        }]\n",
    "    )\n",
    "    return response.message.content"
   ]
  },
  {
   "cell_type": "code",
   "execution_count": 72,
   "metadata": {},
   "outputs": [],
   "source": [
    "# import os\n",
    "# from tqdm import tqdm\n",
    "\n",
    "# image_summaries = []\n",
    "\n",
    "# for i in tqdm(range(len(images))):\n",
    "#     file_path = f\"image_{i+1}.jpeg\"\n",
    "#     summary = get_image_summary(file_path)\n",
    "#     image_summaries.append(summary)\n",
    "\n"
   ]
  },
  {
   "cell_type": "code",
   "execution_count": 73,
   "metadata": {},
   "outputs": [],
   "source": [
    "import pickle\n",
    "\n",
    "with open(\"image_summaries.pickle\", \"rb\") as h:\n",
    "    image_summaries = pickle.load(h)"
   ]
  },
  {
   "cell_type": "code",
   "execution_count": 75,
   "metadata": {},
   "outputs": [
    {
     "data": {
      "text/markdown": [
       "This appears to be a set of rules for using punctuation marks. The lines are similar to how one might write out \"The law will never be perfect, but its application should be just.\"  There are also missing words such as \"are\" and \"in\". This could potentially be used to teach people to properly use punctuation in writing."
      ],
      "text/plain": [
       "<IPython.core.display.Markdown object>"
      ]
     },
     "metadata": {},
     "output_type": "display_data"
    }
   ],
   "source": [
    "display(Markdown(image_summaries[5]))"
   ]
  },
  {
   "cell_type": "code",
   "execution_count": 76,
   "metadata": {},
   "outputs": [
    {
     "name": "stderr",
     "output_type": "stream",
     "text": [
      "100%|██████████| 13/13 [00:57<00:00,  4.45s/it]\n"
     ]
    }
   ],
   "source": [
    "from tqdm import tqdm\n",
    "def get_text_summary(text):\n",
    "\n",
    "    response = ollama.chat(\n",
    "        model='llama3.2:1b',\n",
    "        messages=[{\n",
    "            'role': 'user',\n",
    "            'content': f'Summarize this text {text}'\n",
    "        }]\n",
    "    )\n",
    "    \n",
    "    return response.message.content\n",
    "\n",
    "text_summaries = [get_text_summary(texts[i].text) \\\n",
    "                  for i in tqdm(range(len(texts)))]"
   ]
  },
  {
   "cell_type": "code",
   "execution_count": null,
   "metadata": {},
   "outputs": [],
   "source": [
    "display(Markdown(text_summaries[1]))"
   ]
  },
  {
   "cell_type": "code",
   "execution_count": 82,
   "metadata": {},
   "outputs": [
    {
     "name": "stderr",
     "output_type": "stream",
     "text": [
      "100%|██████████| 4/4 [00:17<00:00,  4.38s/it]\n"
     ]
    }
   ],
   "source": [
    "def get_table_summary(table_html):\n",
    "\n",
    "    response = ollama.chat(\n",
    "        model='llama3.2:1b',\n",
    "        messages=[{\n",
    "            'role': 'user',\n",
    "            'content': f'Summarize this table: {table_html}'\n",
    "        }]\n",
    "    )\n",
    "    \n",
    "    return response.message.content\n",
    "\n",
    "table_summaries = [get_table_summary(tables[i].metadata.text_as_html) \\\n",
    "                   for i in tqdm(range(len(tables)))]"
   ]
  },
  {
   "cell_type": "code",
   "execution_count": 84,
   "metadata": {},
   "outputs": [],
   "source": [
    "from llama_index.embeddings.huggingface import HuggingFaceEmbedding\n",
    "from tqdm import tqdm\n",
    "\n",
    "\n",
    "\n",
    "def batch_iterate(lst, batch_size):\n",
    "    for i in range(0, len(lst), batch_size):\n",
    "        yield lst[i : i + batch_size]\n",
    "\n",
    "class EmbedData:\n",
    "\n",
    "    def __init__(self, \n",
    "                 embed_model_name=\"nomic-ai/nomic-embed-text-v1.5\",\n",
    "                 batch_size=32):\n",
    "        \n",
    "        self.embed_model_name = embed_model_name\n",
    "        self.embed_model = self._load_embed_model()\n",
    "        self.batch_size = batch_size\n",
    "        self.embeddings = []\n",
    "\n",
    "    def _load_embed_model(self):\n",
    "        embed_model = HuggingFaceEmbedding(model_name=self.embed_model_name,\n",
    "                                           trust_remote_code=True,\n",
    "                                           cache_folder='./hf_cache')\n",
    "        return embed_model\n",
    "\n",
    "    \n",
    "    def generate_embedding(self, context):\n",
    "        return self.embed_model.get_text_embedding_batch(context)\n",
    "    \n",
    "    def embed(self, contexts):\n",
    "        self.contexts = contexts\n",
    "        \n",
    "        total_batches = (len(contexts) + self.batch_size - 1) // self.batch_size\n",
    "\n",
    "        with tqdm(total=total_batches, desc=\"Embedding data\", unit=\"batch\") as pbar:\n",
    "            for batch_context in batch_iterate(contexts, self.batch_size):\n",
    "                batch_embeddings = self.generate_embedding(batch_context)\n",
    "                self.embeddings.extend(batch_embeddings)\n",
    "                pbar.update(1)  "
   ]
  },
  {
   "cell_type": "code",
   "execution_count": null,
   "metadata": {},
   "outputs": [
    {
     "name": "stderr",
     "output_type": "stream",
     "text": [
      "!!!!!!!!!!!!megablocks not available, using torch.matmul instead\n",
      "<All keys matched successfully>\n",
      "Embedding data: 100%|██████████| 1/1 [00:07<00:00,  7.12s/batch]\n"
     ]
    }
   ],
   "source": [
    "batch_size = 32\n",
    "\n",
    "embeddata = EmbedData(batch_size=batch_size)\n",
    "\n",
    "embeddata.embed(text_summaries + image_summaries + table_summaries)"
   ]
  },
  {
   "cell_type": "code",
   "execution_count": 89,
   "metadata": {},
   "outputs": [
    {
     "name": "stdout",
     "output_type": "stream",
     "text": [
      "Successfully connected to Qdrant server\n",
      "Collection attention_paper exists, deleting it...\n",
      "Created new collection: attention_paper\n"
     ]
    },
    {
     "name": "stderr",
     "output_type": "stream",
     "text": [
      "Ingesting in batches: 100%|██████████| 1/1 [00:00<00:00, 42.32it/s]"
     ]
    },
    {
     "name": "stdout",
     "output_type": "stream",
     "text": [
      "Finished ingesting all data\n"
     ]
    },
    {
     "name": "stderr",
     "output_type": "stream",
     "text": [
      "\n"
     ]
    }
   ],
   "source": [
    "import time\n",
    "from qdrant_client import QdrantClient\n",
    "from qdrant_client import models \n",
    "class QdrantVDB:\n",
    "    \"\"\"Class to handle Qdrant vector database operations.\"\"\"\n",
    "    \n",
    "    def __init__(self, collection_name, vector_dim=768, batch_size=512):\n",
    "        self.collection_name = collection_name\n",
    "        self.batch_size = batch_size\n",
    "        self.vector_dim = vector_dim\n",
    "        self.client = None\n",
    "\n",
    "    def define_client(self):\n",
    "        \"\"\"Initialize the Qdrant client with retry logic.\"\"\"\n",
    "        retries = 3\n",
    "        while retries > 0:\n",
    "            try:\n",
    "                self.client = QdrantClient(\n",
    "                    url=\"http://localhost:6333\",\n",
    "                    prefer_grpc=True,\n",
    "                    timeout=10.0  # Add timeout\n",
    "                )\n",
    "                print(\"Successfully connected to Qdrant server\")\n",
    "                break\n",
    "            except Exception as e:\n",
    "                retries -= 1\n",
    "                print(f\"Connection error: {e}. Retries left: {retries}\")\n",
    "                time.sleep(2)  # Wait before retry\n",
    "                \n",
    "        if retries == 0:\n",
    "            raise ConnectionError(\"Failed to connect to Qdrant server after multiple attempts\")\n",
    "\n",
    "    def create_collection(self):\n",
    "        \"\"\"Create a collection in Qdrant if it doesn't exist.\"\"\"\n",
    "        if self.client.collection_exists(collection_name=self.collection_name):\n",
    "            print(f\"Collection {self.collection_name} exists, deleting it...\")\n",
    "            self.client.delete_collection(collection_name=self.collection_name)\n",
    "            \n",
    "        self.client.create_collection(\n",
    "            collection_name=self.collection_name,\n",
    "            vectors_config=models.VectorParams(\n",
    "                size=self.vector_dim,\n",
    "                distance=models.Distance.DOT, # dot product similarity \n",
    "                on_disk=True  # store vectors on disk to optimize memory usage\n",
    "            ),\n",
    "            optimizers_config=models.OptimizersConfigDiff(\n",
    "                default_segment_number=5,\n",
    "                indexing_threshold=0\n",
    "            )\n",
    "        )\n",
    "        print(f\"Created new collection: {self.collection_name}\")\n",
    "\n",
    "    def ingest_data(self, embeddata):\n",
    "        \"\"\"Ingest embeddings data into the Qdrant collection in batches.\"\"\"\n",
    "        total_batches = (len(embeddata.contexts) + self.batch_size - 1) // self.batch_size\n",
    "        \n",
    "        for batch_context, batch_embeddings in tqdm(\n",
    "            zip(\n",
    "                batch_iterate(embeddata.contexts, self.batch_size), \n",
    "                batch_iterate(embeddata.embeddings, self.batch_size)\n",
    "            ), \n",
    "            total=total_batches, \n",
    "            desc=\"Ingesting in batches\"\n",
    "        ):\n",
    "            self.client.upload_collection(\n",
    "                collection_name=self.collection_name,\n",
    "                vectors=batch_embeddings,\n",
    "                payload=[{\"context\": context} for context in batch_context]\n",
    "            )\n",
    "\n",
    "        # Set indexing threshold after all data is uploaded\n",
    "        self.client.update_collection(\n",
    "            collection_name=self.collection_name,\n",
    "            optimizer_config=models.OptimizersConfigDiff(indexing_threshold=20000)\n",
    "        )\n",
    "        print(\"Finished ingesting all data\")\n",
    "\n",
    "database = QdrantVDB(\"attention_paper\")\n",
    "database.define_client()\n",
    "database.create_collection()\n",
    "database.ingest_data(embeddata)"
   ]
  },
  {
   "cell_type": "code",
   "execution_count": 93,
   "metadata": {},
   "outputs": [],
   "source": [
    "class Retriever:\n",
    "\n",
    "    def __init__(self, vector_db, embeddata):\n",
    "        \n",
    "        self.vector_db = vector_db\n",
    "        self.embeddata = embeddata\n",
    "\n",
    "    def search(self, query):\n",
    "        query_embedding = self.embeddata.embed_model.get_query_embedding(query)\n",
    "            \n",
    "        # Start the timer\n",
    "        start_time = time.time()\n",
    "        \n",
    "        result = self.vector_db.client.search(\n",
    "            collection_name=self.vector_db.collection_name,\n",
    "            \n",
    "            query_vector=query_embedding,\n",
    "            \n",
    "            search_params=models.SearchParams(\n",
    "                quantization=models.QuantizationSearchParams(\n",
    "                    ignore=True,\n",
    "                    rescore=True,\n",
    "                    oversampling=2.0,\n",
    "                )\n",
    "            ),\n",
    "            \n",
    "            timeout=1000,\n",
    "        )\n",
    "        \n",
    "        # End the timer\n",
    "        end_time = time.time()\n",
    "        elapsed_time = end_time - start_time\n",
    "\n",
    "        print(f\"Execution time for the search: {elapsed_time:.4f} seconds\")\n",
    "\n",
    "        return result\n"
   ]
  },
  {
   "cell_type": "code",
   "execution_count": 98,
   "metadata": {},
   "outputs": [
    {
     "name": "stdout",
     "output_type": "stream",
     "text": [
      "Execution time for the search: 0.0079 seconds\n"
     ]
    },
    {
     "name": "stderr",
     "output_type": "stream",
     "text": [
      "C:\\Users\\Bidhi\\AppData\\Local\\Temp\\ipykernel_7388\\3732059156.py:14: DeprecationWarning: `search` method is deprecated and will be removed in the future. Use `query_points` instead.\n",
      "  result = self.vector_db.client.search(\n"
     ]
    },
    {
     "data": {
      "text/plain": [
       "ScoredPoint(id='1f3d89b9-8254-493b-a807-e21a6c23debb', version=0, score=0.5739913582801819, payload={'context': \"Here's a summary of the text:\\n\\nAn attention function maps a query and key-value pairs to an output vector. The output is computed as a weighted sum of the values. There are two commonly used types of attention functions: \\n\\n1. Scaled Dot-Product Attention, which computes weights using dot products with keys and softmax.\\n2. Multi-Head Attention, which is faster and more space-efficient but may not perform as well for larger values of dimension d.\\n\\nIn practice, attention is often applied to a matrix Q (queries) and matrices K and V (keys and values). The output is computed using the matrix product Attention(Q, K, V), where weights are obtained by applying a softmax function to the dot products.\"}, vector=None, shard_key=None, order_value=None)"
      ]
     },
     "metadata": {},
     "output_type": "display_data"
    }
   ],
   "source": [
    "display(Retriever(database, embeddata).search(\"Sample query\")[0])"
   ]
  },
  {
   "cell_type": "code",
   "execution_count": 120,
   "metadata": {},
   "outputs": [],
   "source": [
    "from llama_index.llms.ollama import Ollama\n",
    "class RAG:\n",
    "\n",
    "    def __init__(self,\n",
    "                 retriever,\n",
    "                 llm_name=\"llama3.2:1b\"):\n",
    "        \n",
    "        self.llm_name = llm_name\n",
    "        self.llm = self._setup_llm()\n",
    "        self.retriever = retriever\n",
    "        self.qa_prompt_tmpl_str = \"\"\"Context information is below.\n",
    "                                     ---------------------\n",
    "                                     {context}\n",
    "                                     ---------------------\n",
    "                                     \n",
    "                                     Given the context information above I want you\n",
    "                                     to think step by step to answer the query in a\n",
    "                                     crisp manner, incase case you don't know the\n",
    "                                     answer say 'I don't know!'\n",
    "                                     \n",
    "                                     ---------------------\n",
    "                                     Query: {query}\n",
    "                                     ---------------------\n",
    "                                     Answer: \"\"\"\n",
    "    def _setup_llm(self):\n",
    "        return Ollama(model=self.llm_name)\n",
    "        \n",
    "    def generate_context(self, query):\n",
    "    \n",
    "        result = self.retriever.search(query)\n",
    "        context = [dict(data) for data in result]\n",
    "        # display(context) --> to see context for debugging\n",
    "        combined_prompt = []\n",
    "\n",
    "        for entry in context:\n",
    "            context = entry[\"payload\"][\"context\"]\n",
    "\n",
    "            combined_prompt.append(context)\n",
    "\n",
    "        return \"\\n\\n---\\n\\n\".join(combined_prompt)\n",
    "    \n",
    "    def query(self, query):\n",
    "        context = self.generate_context(query=query)\n",
    "        \n",
    "        prompt = self.qa_prompt_tmpl_str.format(context=context,\n",
    "                                                query=query)\n",
    "        \n",
    "        response = self.llm.complete(prompt)\n",
    "        \n",
    "        return dict(response)['text']"
   ]
  },
  {
   "cell_type": "code",
   "execution_count": 118,
   "metadata": {},
   "outputs": [
    {
     "name": "stdout",
     "output_type": "stream",
     "text": [
      "Execution time for the search: 0.0080 seconds\n"
     ]
    },
    {
     "name": "stderr",
     "output_type": "stream",
     "text": [
      "C:\\Users\\Bidhi\\AppData\\Local\\Temp\\ipykernel_7388\\3732059156.py:14: DeprecationWarning: `search` method is deprecated and will be removed in the future. Use `query_points` instead.\n",
      "  result = self.vector_db.client.search(\n"
     ]
    },
    {
     "data": {
      "text/plain": [
       "ScoredPoint(id='1f3d89b9-8254-493b-a807-e21a6c23debb', version=0, score=0.5739913582801819, payload={'context': \"Here's a summary of the text:\\n\\nAn attention function maps a query and key-value pairs to an output vector. The output is computed as a weighted sum of the values. There are two commonly used types of attention functions: \\n\\n1. Scaled Dot-Product Attention, which computes weights using dot products with keys and softmax.\\n2. Multi-Head Attention, which is faster and more space-efficient but may not perform as well for larger values of dimension d.\\n\\nIn practice, attention is often applied to a matrix Q (queries) and matrices K and V (keys and values). The output is computed using the matrix product Attention(Q, K, V), where weights are obtained by applying a softmax function to the dot products.\"}, vector=None, shard_key=None, order_value=None)"
      ]
     },
     "metadata": {},
     "output_type": "display_data"
    }
   ],
   "source": [
    "res = Retriever(database, embeddata).search(\"Sample query\")[0]\n",
    "display(res)"
   ]
  },
  {
   "cell_type": "code",
   "execution_count": 121,
   "metadata": {},
   "outputs": [],
   "source": [
    "retriever = Retriever(database, embeddata)\n",
    "\n",
    "rag = RAG(retriever)"
   ]
  },
  {
   "cell_type": "code",
   "execution_count": 122,
   "metadata": {},
   "outputs": [
    {
     "name": "stderr",
     "output_type": "stream",
     "text": [
      "C:\\Users\\Bidhi\\AppData\\Local\\Temp\\ipykernel_7388\\3732059156.py:14: DeprecationWarning: `search` method is deprecated and will be removed in the future. Use `query_points` instead.\n",
      "  result = self.vector_db.client.search(\n"
     ]
    },
    {
     "name": "stdout",
     "output_type": "stream",
     "text": [
      "Execution time for the search: 0.0072 seconds\n"
     ]
    }
   ],
   "source": [
    "query = \"\"\"What are the types of model \n",
    "           architectures proposed in the paper?\"\"\"\n",
    "\n",
    "answer = rag.query(query)"
   ]
  },
  {
   "cell_type": "code",
   "execution_count": 123,
   "metadata": {},
   "outputs": [
    {
     "data": {
      "text/markdown": [
       "Based on the provided context information, here is a step-by-step analysis to determine the types of model architectures proposed in the paper:\n",
       "\n",
       "1. **Stacked Self-Attention and Fully Connected Layers**: This architecture consists of multiple stacks of self-attention mechanisms followed by fully connected layers.\n",
       "\n",
       "2. **Residual Connection-based Encoder with Multi-Head Attention and Feed-Forward Networks**: This architecture uses residual connections between sub-layers in the encoder stack and additional multi-head attention mechanisms in both the encoder and decoder stacks.\n",
       "\n",
       "3. **Stacked Layers with Positional Encoding and Masking**: This architecture consists of multiple stacked layers, each with a different component (self-attention, feed-forward network, etc.). The self-attention mechanism is used to model relationships between positions in the input sequence, while positional encoding ensures that position information is preserved across layers. Masking is used to prevent attention from attending to subsequent positions in the output sequence.\n",
       "\n",
       "Given this analysis, I don't know!"
      ],
      "text/plain": [
       "<IPython.core.display.Markdown object>"
      ]
     },
     "metadata": {},
     "output_type": "display_data"
    }
   ],
   "source": [
    "display(Markdown(answer))"
   ]
  },
  {
   "cell_type": "code",
   "execution_count": 127,
   "metadata": {},
   "outputs": [
    {
     "name": "stderr",
     "output_type": "stream",
     "text": [
      "C:\\Users\\Bidhi\\AppData\\Local\\Temp\\ipykernel_7388\\3732059156.py:14: DeprecationWarning: `search` method is deprecated and will be removed in the future. Use `query_points` instead.\n",
      "  result = self.vector_db.client.search(\n"
     ]
    },
    {
     "name": "stdout",
     "output_type": "stream",
     "text": [
      "Execution time for the search: 0.0068 seconds\n"
     ]
    }
   ],
   "source": [
    "query = \"\"\"What is the BLUE score for MoE model?\"\"\"\n",
    "\n",
    "answer = rag.query(query)"
   ]
  },
  {
   "cell_type": "code",
   "execution_count": 128,
   "metadata": {},
   "outputs": [
    {
     "data": {
      "text/markdown": [
       "The Blue (BLEU) score for the MoE (Model-based Entity Representation) model in the text is not explicitly stated. However, based on the context, it appears that the MoE model achieved a score of around 26.03 on the English-DE dataset, with a range of 2.0 to 10^9.\n",
       "\n",
       "The MoE model was one of several models compared in the table, and its performance was found to be comparable to other models on the WMT 2014 English-DE task. However, it's worth noting that the exact scores are not provided in the text.\n",
       "\n",
       "If you're looking for information on the Blue score for the MoE model, I recommend checking the original source or table that presents the performance metrics for this specific model."
      ],
      "text/plain": [
       "<IPython.core.display.Markdown object>"
      ]
     },
     "metadata": {},
     "output_type": "display_data"
    }
   ],
   "source": [
    "display(Markdown(answer))"
   ]
  },
  {
   "cell_type": "code",
   "execution_count": null,
   "metadata": {},
   "outputs": [],
   "source": []
  }
 ],
 "metadata": {
  "kernelspec": {
   "display_name": "RAG04",
   "language": "python",
   "name": "python3"
  },
  "language_info": {
   "codemirror_mode": {
    "name": "ipython",
    "version": 3
   },
   "file_extension": ".py",
   "mimetype": "text/x-python",
   "name": "python",
   "nbconvert_exporter": "python",
   "pygments_lexer": "ipython3",
   "version": "3.11.11"
  }
 },
 "nbformat": 4,
 "nbformat_minor": 2
}
